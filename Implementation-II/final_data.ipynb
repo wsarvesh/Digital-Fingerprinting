{
 "cells": [
  {
   "cell_type": "code",
   "execution_count": 8,
   "metadata": {},
   "outputs": [],
   "source": [
    "import pandas as pd\n",
    "import matplotlib.pyplot as plt\n",
    "import matplotlib.mlab as mlab\n",
    "from datetime import datetime\n",
    "import os"
   ]
  },
  {
   "cell_type": "code",
   "execution_count": 9,
   "metadata": {},
   "outputs": [
    {
     "data": {
      "text/plain": [
       "['Amazon Echo',\n",
       " 'Android Phone 1',\n",
       " 'Android Phone 2',\n",
       " 'Belkin wemo motion sensor',\n",
       " 'Belkin Wemo switch',\n",
       " 'Blipcare Blood Pressure meter',\n",
       " 'Dropcam',\n",
       " 'HP Printer',\n",
       " 'iHome',\n",
       " 'Insteon Camera',\n",
       " 'IPhone',\n",
       " 'Laptop',\n",
       " 'Light Bulbs LiFX Smart Bulb',\n",
       " 'MacBook Iphone',\n",
       " 'MacBook',\n",
       " 'Nest Dropcam',\n",
       " 'NEST Protect smoke alarm',\n",
       " 'Netatmo weather station',\n",
       " 'Netatmo Welcome',\n",
       " 'PIX-STAR Photo-frame',\n",
       " 'Samsung Galaxy Tab',\n",
       " 'Samsung SmartCam',\n",
       " 'Smart Things',\n",
       " 'TP-Link Day Night Cloud camera',\n",
       " 'TP-Link Smart plug',\n",
       " 'TPLink Router Bridge LAN (Gateway)',\n",
       " 'Triby Speaker',\n",
       " 'Withings Aura smart sleep sensor',\n",
       " 'Withings Smart Baby Monitor',\n",
       " 'Withings Smart scale']"
      ]
     },
     "execution_count": 9,
     "metadata": {},
     "output_type": "execute_result"
    }
   ],
   "source": [
    "path = 'data'\n",
    "files = []\n",
    "# r=root, d=directories, f = files\n",
    "for r, d, f in os.walk(path):\n",
    "    for file in f:\n",
    "        if '.csv' in file:\n",
    "            files.append(os.path.join(r, file))\n",
    "\n",
    "names = []\n",
    "for f in files:\n",
    "    names.append(f.split(\"\\\\\")[-1].split(\".\")[0])\n",
    "#     print(f)\n",
    "names"
   ]
  },
  {
   "cell_type": "code",
   "execution_count": 10,
   "metadata": {},
   "outputs": [
    {
     "name": "stdout",
     "output_type": "stream",
     "text": [
      "Amazon Echo\n",
      "Android Phone 1\n",
      "Android Phone 2\n",
      "Belkin wemo motion sensor\n",
      "Belkin Wemo switch\n",
      "Blipcare Blood Pressure meter\n",
      "Dropcam\n",
      "HP Printer\n",
      "iHome\n",
      "Insteon Camera\n",
      "IPhone\n",
      "Laptop\n",
      "Light Bulbs LiFX Smart Bulb\n",
      "MacBook Iphone\n",
      "MacBook\n",
      "Nest Dropcam\n",
      "NEST Protect smoke alarm\n",
      "Netatmo weather station\n",
      "Netatmo Welcome\n",
      "PIX-STAR Photo-frame\n",
      "Samsung Galaxy Tab\n",
      "Samsung SmartCam\n",
      "Smart Things\n",
      "TP-Link Day Night Cloud camera\n",
      "TP-Link Smart plug\n",
      "TPLink Router Bridge LAN (Gateway)\n",
      "Triby Speaker\n",
      "Withings Aura smart sleep sensor\n",
      "Withings Smart Baby Monitor\n",
      "Withings Smart scale\n",
      "Label,nBytes,nPackets,activeTime,sleepTime,ports,dns_req,ntp_req,dns_interval,ntp_interval,avg_pkt,mean_rate\n"
     ]
    }
   ],
   "source": [
    "cl = ['nBytes', 'nPackets', 'activeTime', 'sleepTime', 'ports', 'dns_req', 'ntp_req', 'dns_interval', 'ntp_interval', 'avg_pkt', 'mean_rate']\n",
    "\n",
    "for i in names:\n",
    "    print(i)\n",
    "    name = \"final_data/\" + i + \".csv\"\n",
    "    f = open(name, \"w\")\n",
    "    d = \",\".join(cl) + \",Label\\n\" \n",
    "    f.write(d)\n",
    "    f.close()\n",
    "\n",
    "print(\"Label,\" + \",\".join(cl))"
   ]
  },
  {
   "cell_type": "code",
   "execution_count": 12,
   "metadata": {},
   "outputs": [
    {
     "name": "stdout",
     "output_type": "stream",
     "text": [
      "final_data/Amazon Echo.csv\n",
      "final_data/Belkin wemo motion sensor.csv\n",
      "final_data/Belkin Wemo switch.csv\n",
      "final_data/Dropcam.csv\n",
      "final_data/HP Printer.csv\n",
      "final_data/NEST Protect smoke alarm.csv\n",
      "final_data/Netatmo weather station.csv\n",
      "final_data/Netatmo Welcome.csv\n",
      "final_data/PIX-STAR Photo-frame.csv\n",
      "final_data/Samsung Galaxy Tab.csv\n",
      "final_data/Samsung SmartCam.csv\n",
      "final_data/Smart Things.csv\n",
      "final_data/TP-Link Day Night Cloud camera.csv\n",
      "final_data/TP-Link Smart plug.csv\n",
      "final_data/TPLink Router Bridge LAN (Gateway).csv\n",
      "final_data/Triby Speaker.csv\n",
      "final_data/Withings Smart Baby Monitor.csv\n",
      "final_data/Withings Smart scale.csv\n"
     ]
    }
   ],
   "source": [
    "for i,j in zip(files, names):\n",
    "    df = pd.read_csv(i)\n",
    "    if df.empty:\n",
    "        continue\n",
    "    t = df['TIME'][0]\n",
    "    d = 900\n",
    "    pt = 0\n",
    "    l = df['Label'][0]\n",
    "#     temp = [0, 0, 0, 0, set(), 0]\n",
    "    temp = [0, 0, 0, 0, set(), 0, 0, 0, [], []]\n",
    "    data = []\n",
    "    for index, row in df.iterrows():\n",
    "#         if row['TIME'] >= t + d:\n",
    "#     #         print(row['TIME'], t, d, t + d)\n",
    "#             t += d\n",
    "#             temp[3] = 900 - temp[2]\n",
    "#             temp[5] = len(temp[4])\n",
    "#             del temp[4]\n",
    "#             data.append(temp)\n",
    "#             temp = [0, 0, 0, 0, set(), 0]\n",
    "\n",
    "#         if pt != row['TIME']:\n",
    "#             pt = row['TIME']\n",
    "#             temp[0] += row['Size']\n",
    "#             temp[1] += 1\n",
    "#             temp[2] += 1\n",
    "#             temp[4].add(row['port.src'])\n",
    "#             temp[4].add(row['port.dst'])\n",
    "#         else:\n",
    "#             temp[0] += row['Size']\n",
    "#             temp[1] += 1\n",
    "#             temp[4].add(row['port.src'])\n",
    "#             temp[4].add(row['port.dst'])\n",
    "\n",
    "        if row['TIME'] >= t + d:\n",
    "#         print(row['TIME'], t, d, t + d)\n",
    "            t += d\n",
    "            temp[3] = 900 - temp[2]\n",
    "            temp[5] = len(temp[4])\n",
    "            if len(temp[8]) == 0:\n",
    "                temp[8] = 0\n",
    "            else:\n",
    "                temp[8] = (temp[8][-1] - temp[8][0]) / len(set(temp[8]))\n",
    "            if len(temp[9]) == 0:\n",
    "                temp[9] = 0\n",
    "            else:\n",
    "                temp[9] = (temp[9][-1] - temp[9][0]) / len(set(temp[9]))\n",
    "            del temp[4]\n",
    "            data.append(temp)\n",
    "            temp = [0, 0, 0, 0, set(), 0, 0, 0, [], []]\n",
    "        \n",
    "        if pt != row['TIME']:\n",
    "            pt = row['TIME']\n",
    "            temp[0] += row['Size']\n",
    "            temp[1] += 1\n",
    "            temp[2] += 1\n",
    "            temp[4].add(row['port.src'])\n",
    "            temp[4].add(row['port.dst'])\n",
    "            if row['port.src'] == 53 or row['port.dst'] == 53:\n",
    "                if row['port.src'] == 53:\n",
    "                    temp[8].append(row['TIME'])\n",
    "                temp[6] += 1\n",
    "            if row['port.src'] == 123 or row['port.dst'] == 123:\n",
    "                if row['port.src'] == 123:\n",
    "                    temp[9].append(row['TIME'])\n",
    "                temp[7] += 1\n",
    "        else:\n",
    "            temp[0] += row['Size']\n",
    "            temp[1] += 1\n",
    "            temp[4].add(row['port.src'])\n",
    "            temp[4].add(row['port.dst'])\n",
    "            if row['port.src'] == 53 or row['port.dst'] == 53:\n",
    "                if row['port.src'] == 53:\n",
    "                    temp[8].append(row['TIME'])\n",
    "                temp[6] += 1\n",
    "            if row['port.src'] == 123 or row['port.dst'] == 123:\n",
    "                if row['port.src'] == 123:\n",
    "                    temp[9].append(row['TIME'])\n",
    "                temp[7] += 1\n",
    "        \n",
    "    name = \"final_data/\" + j + \".csv\"\n",
    "    print(name)\n",
    "    f = open(name, \"a\")\n",
    "    for j in data:\n",
    "#         d = \",\".join(map(str, j)) + \",\" + str(l) +\"\\n\"\n",
    "        d = \",\".join(map(str, j)) + \",\" +str(j[0]/j[1]) + \",\" +str(j[0] / (1024 * j[1])) + \",\" + str(l) +\"\\n\"\n",
    "#         print(d, len(j))\n",
    "#         break\n",
    "#     break\n",
    "        f.write(d)\n",
    "    f.close()"
   ]
  },
  {
   "cell_type": "code",
   "execution_count": 41,
   "metadata": {},
   "outputs": [
    {
     "name": "stdout",
     "output_type": "stream",
     "text": [
      "         TIME  Size            eth.src            eth.dst         IP.src  \\\n",
      "0  1474898404   201  44:65:0d:56:cc:d3  14:cc:20:51:33:ea  192.168.1.240   \n",
      "1  1474898412   191  44:65:0d:56:cc:d3  14:cc:20:51:33:ea  192.168.1.240   \n",
      "2  1474898422    54  44:65:0d:56:cc:d3  14:cc:20:51:33:ea  192.168.1.240   \n",
      "3  1474898422    95  14:cc:20:51:33:ea  44:65:0d:56:cc:d3  54.239.29.231   \n",
      "4  1474898422    54  14:cc:20:51:33:ea  44:65:0d:56:cc:d3  54.239.29.231   \n",
      "\n",
      "          IP.dst  IP.proto  port.src  port.dst  Label  \n",
      "0   23.23.189.20        17     49280     33434      1  \n",
      "1   23.23.189.20        17     47532     33434      1  \n",
      "2  54.239.29.231         6     58255       443      1  \n",
      "3  192.168.1.240         6       443     58255      1  \n",
      "4  192.168.1.240         6       443     58255      1  \n"
     ]
    }
   ],
   "source": [
    "df1 = pd.read_csv(files[0])\n",
    "print(df1.head())"
   ]
  },
  {
   "cell_type": "code",
   "execution_count": 3,
   "metadata": {},
   "outputs": [
    {
     "name": "stdout",
     "output_type": "stream",
     "text": [
      "         TIME  Size            eth.src            eth.dst         IP.src  \\\n",
      "0  1474898404   201  44:65:0d:56:cc:d3  14:cc:20:51:33:ea  192.168.1.240   \n",
      "1  1474898412   191  44:65:0d:56:cc:d3  14:cc:20:51:33:ea  192.168.1.240   \n",
      "2  1474898422    54  44:65:0d:56:cc:d3  14:cc:20:51:33:ea  192.168.1.240   \n",
      "3  1474898422    95  14:cc:20:51:33:ea  44:65:0d:56:cc:d3  54.239.29.231   \n",
      "4  1474898422    54  14:cc:20:51:33:ea  44:65:0d:56:cc:d3  54.239.29.231   \n",
      "\n",
      "          IP.dst  IP.proto  port.src  port.dst  Label  \n",
      "0   23.23.189.20        17     49280     33434      1  \n",
      "1   23.23.189.20        17     47532     33434      1  \n",
      "2  54.239.29.231         6     58255       443      1  \n",
      "3  192.168.1.240         6       443     58255      1  \n",
      "4  192.168.1.240         6       443     58255      1  \n"
     ]
    }
   ],
   "source": [
    "df = pd.read_csv('data/Amazon Echo.csv')\n",
    "print(df.head())\n"
   ]
  },
  {
   "cell_type": "code",
   "execution_count": 8,
   "metadata": {},
   "outputs": [
    {
     "data": {
      "text/plain": [
       "(36426, 10)"
      ]
     },
     "execution_count": 8,
     "metadata": {},
     "output_type": "execute_result"
    }
   ],
   "source": [
    "df.shape"
   ]
  },
  {
   "cell_type": "code",
   "execution_count": 7,
   "metadata": {},
   "outputs": [
    {
     "data": {
      "text/plain": [
       "[[52898, 407, 129, 771, 38, 40, 29, 82.625, 53.53846153846154],\n",
       " [44444, 392, 138, 762, 35, 40, 56, 75.125, 25.814814814814813]]"
      ]
     },
     "execution_count": 7,
     "metadata": {},
     "output_type": "execute_result"
    }
   ],
   "source": [
    "t = df['TIME'][0]\n",
    "d = 900\n",
    "nBytes = []\n",
    "nPackets = []\n",
    "activeTime = []\n",
    "sleepTime = []\n",
    "ports = set()\n",
    "pt = 0\n",
    "temp = [0, 0, 0, 0, set(), 0, 0, 0, [], []]\n",
    "data = []\n",
    "c = 0\n",
    "for index, row in df.iterrows():\n",
    "    if row['TIME'] >= t + d:\n",
    "#         print(row['TIME'], t, d, t + d)\n",
    "        t += d\n",
    "        temp[3] = 900 - temp[2]\n",
    "        temp[5] = len(temp[4])\n",
    "        temp[8] = (temp[8][-1] - temp[8][0]) / len(set(temp[8]))\n",
    "        temp[9] = (temp[9][-1] - temp[9][0]) / len(set(temp[9]))\n",
    "        del temp[4]\n",
    "        data.append(temp)\n",
    "        temp = [0, 0, 0, 0, set(), 0, 0, 0, [], []]\n",
    "        \n",
    "    if pt != row['TIME']:\n",
    "        pt = row['TIME']\n",
    "        temp[0] += row['Size']\n",
    "        temp[1] += 1\n",
    "        temp[2] += 1\n",
    "        temp[4].add(row['port.src'])\n",
    "        temp[4].add(row['port.dst'])\n",
    "        if row['port.src'] == 53 or row['port.dst'] == 53:\n",
    "            if row['port.src'] == 53:\n",
    "                temp[8].append(row['TIME'])\n",
    "            temp[6] += 1\n",
    "        if row['port.src'] == 123 or row['port.dst'] == 123:\n",
    "            if row['port.src'] == 123:\n",
    "                temp[9].append(row['TIME'])\n",
    "            temp[7] += 1\n",
    "    else:\n",
    "        temp[0] += row['Size']\n",
    "        temp[1] += 1\n",
    "        temp[4].add(row['port.src'])\n",
    "        temp[4].add(row['port.dst'])\n",
    "        if row['port.src'] == 53 or row['port.dst'] == 53:\n",
    "            if row['port.src'] == 53:\n",
    "                temp[8].append(row['TIME'])\n",
    "            temp[6] += 1\n",
    "        if row['port.src'] == 123 or row['port.dst'] == 123:\n",
    "            if row['port.src'] == 123:\n",
    "                temp[9].append(row['TIME'])\n",
    "            temp[7] += 1\n",
    "#     print(row)\n",
    "    if c == 1000:\n",
    "        break\n",
    "    c += 1\n",
    "data"
   ]
  },
  {
   "cell_type": "code",
   "execution_count": 30,
   "metadata": {},
   "outputs": [
    {
     "data": {
      "text/plain": [
       "95"
      ]
     },
     "execution_count": 30,
     "metadata": {},
     "output_type": "execute_result"
    }
   ],
   "source": [
    "len(data)"
   ]
  },
  {
   "cell_type": "code",
   "execution_count": 33,
   "metadata": {},
   "outputs": [
    {
     "data": {
      "text/plain": [
       "[40808, 351, 119, 781, 33]"
      ]
     },
     "execution_count": 33,
     "metadata": {},
     "output_type": "execute_result"
    }
   ],
   "source": [
    "data[2]"
   ]
  },
  {
   "cell_type": "code",
   "execution_count": 11,
   "metadata": {},
   "outputs": [
    {
     "name": "stdout",
     "output_type": "stream",
     "text": [
      "final_data/Amazon Echo.csv\n",
      "33886,149,28,872,5,227.4228187919463,0.22209259647651006,1\n",
      " 5\n"
     ]
    }
   ],
   "source": [
    "name = \"final_data/\" + \"Amazon Echo\" + \".csv\"\n",
    "print(name)\n",
    "# f = open(name, \"a\")\n",
    "for j in data:\n",
    "    d = \",\".join(map(str, j)) + \",\" +str(j[0]/j[1]) + \",\" +str(j[0] / (1024 * j[1])) + \",1\\n\"\n",
    "    print(d, len(j))\n",
    "#         break\n",
    "    break\n",
    "#     f.write(d)\n",
    "# f.close()"
   ]
  },
  {
   "cell_type": "code",
   "execution_count": null,
   "metadata": {},
   "outputs": [],
   "source": [
    "for i in mac_devices.keys():\n",
    "#     print(mac_devices[i])\n",
    "    name = \"data/\" + mac_devices[i][0] + \".csv\"\n",
    "    print(name)\n",
    "    f = open(name, \"a\")\n",
    "    for j in map_val[i]:\n",
    "        d = \",\".join(map(str, j)) + \"\\n\"\n",
    "#         print(d, len(j))\n",
    "#         break\n",
    "#     break\n",
    "        f.write(d)\n",
    "    f.close()"
   ]
  }
 ],
 "metadata": {
  "kernelspec": {
   "display_name": "Python 3",
   "language": "python",
   "name": "python3"
  },
  "language_info": {
   "codemirror_mode": {
    "name": "ipython",
    "version": 3
   },
   "file_extension": ".py",
   "mimetype": "text/x-python",
   "name": "python",
   "nbconvert_exporter": "python",
   "pygments_lexer": "ipython3",
   "version": "3.8.5"
  }
 },
 "nbformat": 4,
 "nbformat_minor": 4
}
