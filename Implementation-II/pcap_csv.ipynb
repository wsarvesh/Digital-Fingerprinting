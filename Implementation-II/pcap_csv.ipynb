{
 "cells": [
  {
   "cell_type": "code",
   "execution_count": 1,
   "metadata": {},
   "outputs": [],
   "source": [
    "from scapy.all import *\n",
    "import pyshark"
   ]
  },
  {
   "cell_type": "code",
   "execution_count": 2,
   "metadata": {},
   "outputs": [],
   "source": [
    "# scapy_cap = ('16-09-27.pcap')\n",
    "a = rdpcap(\"16-09-27.pcap\")"
   ]
  },
  {
   "cell_type": "code",
   "execution_count": 23,
   "metadata": {},
   "outputs": [],
   "source": [
    "pkt = a[206]"
   ]
  },
  {
   "cell_type": "code",
   "execution_count": 24,
   "metadata": {},
   "outputs": [
    {
     "name": "stdout",
     "output_type": "stream",
     "text": [
      "527035\n",
      "<class 'scapy.layers.l2.Ether'>\n"
     ]
    }
   ],
   "source": [
    "print(len(a))\n",
    "print(type(pkt))"
   ]
  },
  {
   "cell_type": "code",
   "execution_count": 25,
   "metadata": {},
   "outputs": [
    {
     "name": "stdout",
     "output_type": "stream",
     "text": [
      "b'\\xec\\x1aY\\x83(\\x11\\x00\\x16l\\xabk\\x88\\x08\\x00E\\x00\\x04\\xc6\\x1a\\x1e@\\x00@\\x06\\x97\\t\\xc0\\xa8\\x01\\xf9\\xc0\\xa8\\x01\\xc1\\xc0\\x00\\x0c\\xac\\xdb{\\x93\\x81\\xef\\xab\\xd7\\xa4\\x80\\x18\\x06\\xb4\\x96\\xa2\\x00\\x00\\x01\\x01\\x08\\n\\x02\\xc7\\x89\\x9c\\x12O)^HTTP/1.1 200 OK\\r\\nContent-Type: text/xml; charset=\"utf-8\"\\r\\nConnection: close\\r\\nContent-Length: 1022\\r\\nServer: Ubuntu/precise UPnP/1.1 MiniUPnPd/1.7\\r\\n\\r\\n<?xml version=\"1.0\"?>\\r\\n<root xmlns=\"urn:schemas-upnp-org:device-1-0\"><specVersion><major>1</major><minor>0</minor></specVersion><device><deviceType>urn:schemas-upnp-org:device:Basic:1</deviceType><friendlyName>SAMSUNG-SNH-P6410BN-00166CAB6B88</friendlyName><manufacturer>SAMSUNG</manufacturer><manufacturerURL>http://www.samsungtechwin.com/</manufacturerURL><modelDescription>SNH-P6410BN Network Camera</modelDescription><modelName>SNH-P6410BN</modelName><modelNumber>SNH-P6410BN</modelNumber><modelURL>http://www.samsungtechwin.com/</modelURL><serialNumber>KHNL6V2H20003LX</serialNumber><UDN>uuid:Upnp-BasicDevice-1_0-00166CAB6B88</UDN><serviceList><service><serviceType>urn:SamsungTechwin:service:BasicService:1</serviceType><serviceId>urn:SamsungTechwin:BasicServiceId</serviceId><controlURL>/upnp/control/BasicServiceId</controlURL><eventSubURL>/upnp/event/BasicServiceId</eventSubURL><SCPDURL>/scpd_basic.xml</SCPDURL></service></serviceList><presentationURL>http://192.168.1.249:80/</presentationURL></device></root>'\n",
      "###[ Ethernet ]### \n",
      "  dst       = ec:1a:59:83:28:11\n",
      "  src       = 00:16:6c:ab:6b:88\n",
      "  type      = IPv4\n",
      "###[ IP ]### \n",
      "     version   = 4\n",
      "     ihl       = 5\n",
      "     tos       = 0x0\n",
      "     len       = 1222\n",
      "     id        = 6686\n",
      "     flags     = DF\n",
      "     frag      = 0\n",
      "     ttl       = 64\n",
      "     proto     = tcp\n",
      "     chksum    = 0x9709\n",
      "     src       = 192.168.1.249\n",
      "     dst       = 192.168.1.193\n",
      "     \\options   \\\n",
      "###[ TCP ]### \n",
      "        sport     = 49152\n",
      "        dport     = 3244\n",
      "        seq       = 3682308993\n",
      "        ack       = 4021016484\n",
      "        dataofs   = 8\n",
      "        reserved  = 0\n",
      "        flags     = PA\n",
      "        window    = 1716\n",
      "        chksum    = 0x96a2\n",
      "        urgptr    = 0\n",
      "        options   = [('NOP', None), ('NOP', None), ('Timestamp', (46631324, 307177822))]\n",
      "###[ Raw ]### \n",
      "           load      = 'HTTP/1.1 200 OK\\r\\nContent-Type: text/xml; charset=\"utf-8\"\\r\\nConnection: close\\r\\nContent-Length: 1022\\r\\nServer: Ubuntu/precise UPnP/1.1 MiniUPnPd/1.7\\r\\n\\r\\n<?xml version=\"1.0\"?>\\r\\n<root xmlns=\"urn:schemas-upnp-org:device-1-0\"><specVersion><major>1</major><minor>0</minor></specVersion><device><deviceType>urn:schemas-upnp-org:device:Basic:1</deviceType><friendlyName>SAMSUNG-SNH-P6410BN-00166CAB6B88</friendlyName><manufacturer>SAMSUNG</manufacturer><manufacturerURL>http://www.samsungtechwin.com/</manufacturerURL><modelDescription>SNH-P6410BN Network Camera</modelDescription><modelName>SNH-P6410BN</modelName><modelNumber>SNH-P6410BN</modelNumber><modelURL>http://www.samsungtechwin.com/</modelURL><serialNumber>KHNL6V2H20003LX</serialNumber><UDN>uuid:Upnp-BasicDevice-1_0-00166CAB6B88</UDN><serviceList><service><serviceType>urn:SamsungTechwin:service:BasicService:1</serviceType><serviceId>urn:SamsungTechwin:BasicServiceId</serviceId><controlURL>/upnp/control/BasicServiceId</controlURL><eventSubURL>/upnp/event/BasicServiceId</eventSubURL><SCPDURL>/scpd_basic.xml</SCPDURL></service></serviceList><presentationURL>http://192.168.1.249:80/</presentationURL></device></root>'\n",
      "\n",
      "None\n",
      "00:16:6c:ab:6b:88 ec:1a:59:83:28:11\n",
      "###[ Raw ]### \n",
      "  load      = 'HTTP/1.1 200 OK\\r\\nContent-Type: text/xml; charset=\"utf-8\"\\r\\nConnection: close\\r\\nContent-Length: 1022\\r\\nServer: Ubuntu/precise UPnP/1.1 MiniUPnPd/1.7\\r\\n\\r\\n<?xml version=\"1.0\"?>\\r\\n<root xmlns=\"urn:schemas-upnp-org:device-1-0\"><specVersion><major>1</major><minor>0</minor></specVersion><device><deviceType>urn:schemas-upnp-org:device:Basic:1</deviceType><friendlyName>SAMSUNG-SNH-P6410BN-00166CAB6B88</friendlyName><manufacturer>SAMSUNG</manufacturer><manufacturerURL>http://www.samsungtechwin.com/</manufacturerURL><modelDescription>SNH-P6410BN Network Camera</modelDescription><modelName>SNH-P6410BN</modelName><modelNumber>SNH-P6410BN</modelNumber><modelURL>http://www.samsungtechwin.com/</modelURL><serialNumber>KHNL6V2H20003LX</serialNumber><UDN>uuid:Upnp-BasicDevice-1_0-00166CAB6B88</UDN><serviceList><service><serviceType>urn:SamsungTechwin:service:BasicService:1</serviceType><serviceId>urn:SamsungTechwin:BasicServiceId</serviceId><controlURL>/upnp/control/BasicServiceId</controlURL><eventSubURL>/upnp/event/BasicServiceId</eventSubURL><SCPDURL>/scpd_basic.xml</SCPDURL></service></serviceList><presentationURL>http://192.168.1.249:80/</presentationURL></device></root>'\n",
      "\n",
      "None\n"
     ]
    }
   ],
   "source": [
    "print(str(pkt))\n",
    "print(pkt.show())\n",
    "print(pkt.src, pkt.dst)\n",
    "print(pkt[Raw].show())"
   ]
  },
  {
   "cell_type": "code",
   "execution_count": 20,
   "metadata": {},
   "outputs": [
    {
     "name": "stdout",
     "output_type": "stream",
     "text": [
      "<FileCapture 16-09-27.pcap>\n"
     ]
    },
    {
     "name": "stderr",
     "output_type": "stream",
     "text": [
      "C:\\Users\\wsarv\\anaconda3\\lib\\site-packages\\traitlets\\traitlets.py:1075: RuntimeWarning: coroutine 'Capture._get_tshark_process' was never awaited\n",
      "  for key, value in kwargs.items():\n",
      "RuntimeWarning: Enable tracemalloc to get the object allocation traceback\n"
     ]
    },
    {
     "ename": "RuntimeError",
     "evalue": "Cannot run the event loop while another loop is running",
     "output_type": "error",
     "traceback": [
      "\u001b[1;31m---------------------------------------------------------------------------\u001b[0m",
      "\u001b[1;31mRuntimeError\u001b[0m                              Traceback (most recent call last)",
      "\u001b[1;32m<ipython-input-20-19fbdab45655>\u001b[0m in \u001b[0;36m<module>\u001b[1;34m\u001b[0m\n\u001b[0;32m      1\u001b[0m \u001b[0mcap\u001b[0m \u001b[1;33m=\u001b[0m \u001b[0mpyshark\u001b[0m\u001b[1;33m.\u001b[0m\u001b[0mFileCapture\u001b[0m\u001b[1;33m(\u001b[0m\u001b[1;34m'16-09-27.pcap'\u001b[0m\u001b[1;33m)\u001b[0m\u001b[1;33m\u001b[0m\u001b[1;33m\u001b[0m\u001b[0m\n\u001b[0;32m      2\u001b[0m \u001b[0mprint\u001b[0m\u001b[1;33m(\u001b[0m\u001b[0mcap\u001b[0m\u001b[1;33m)\u001b[0m\u001b[1;33m\u001b[0m\u001b[1;33m\u001b[0m\u001b[0m\n\u001b[1;32m----> 3\u001b[1;33m \u001b[0mprint\u001b[0m\u001b[1;33m(\u001b[0m\u001b[0mdir\u001b[0m\u001b[1;33m(\u001b[0m\u001b[0mcap\u001b[0m\u001b[1;33m[\u001b[0m\u001b[1;36m0\u001b[0m\u001b[1;33m]\u001b[0m\u001b[1;33m)\u001b[0m\u001b[1;33m)\u001b[0m\u001b[1;33m\u001b[0m\u001b[1;33m\u001b[0m\u001b[0m\n\u001b[0m\u001b[0;32m      4\u001b[0m \u001b[0mprint\u001b[0m\u001b[1;33m(\u001b[0m\u001b[0mcap\u001b[0m\u001b[1;33m[\u001b[0m\u001b[1;36m0\u001b[0m\u001b[1;33m]\u001b[0m\u001b[1;33m)\u001b[0m\u001b[1;33m\u001b[0m\u001b[1;33m\u001b[0m\u001b[0m\n",
      "\u001b[1;32m~\\anaconda3\\lib\\site-packages\\pyshark\\capture\\file_capture.py\u001b[0m in \u001b[0;36m__getitem__\u001b[1;34m(self, packet_index)\u001b[0m\n\u001b[0;32m     69\u001b[0m         \u001b[1;32mwhile\u001b[0m \u001b[0mpacket_index\u001b[0m \u001b[1;33m>=\u001b[0m \u001b[0mlen\u001b[0m\u001b[1;33m(\u001b[0m\u001b[0mself\u001b[0m\u001b[1;33m.\u001b[0m\u001b[0m_packets\u001b[0m\u001b[1;33m)\u001b[0m\u001b[1;33m:\u001b[0m\u001b[1;33m\u001b[0m\u001b[1;33m\u001b[0m\u001b[0m\n\u001b[0;32m     70\u001b[0m             \u001b[1;32mtry\u001b[0m\u001b[1;33m:\u001b[0m\u001b[1;33m\u001b[0m\u001b[1;33m\u001b[0m\u001b[0m\n\u001b[1;32m---> 71\u001b[1;33m                 \u001b[0mself\u001b[0m\u001b[1;33m.\u001b[0m\u001b[0mnext\u001b[0m\u001b[1;33m(\u001b[0m\u001b[1;33m)\u001b[0m\u001b[1;33m\u001b[0m\u001b[1;33m\u001b[0m\u001b[0m\n\u001b[0m\u001b[0;32m     72\u001b[0m             \u001b[1;32mexcept\u001b[0m \u001b[0mStopIteration\u001b[0m\u001b[1;33m:\u001b[0m\u001b[1;33m\u001b[0m\u001b[1;33m\u001b[0m\u001b[0m\n\u001b[0;32m     73\u001b[0m                 \u001b[1;31m# We read the whole file, and there's still not such packet.\u001b[0m\u001b[1;33m\u001b[0m\u001b[1;33m\u001b[0m\u001b[1;33m\u001b[0m\u001b[0m\n",
      "\u001b[1;32m~\\anaconda3\\lib\\site-packages\\pyshark\\capture\\file_capture.py\u001b[0m in \u001b[0;36mnext\u001b[1;34m(self)\u001b[0m\n\u001b[0;32m     59\u001b[0m             \u001b[1;32mreturn\u001b[0m \u001b[0mself\u001b[0m\u001b[1;33m.\u001b[0m\u001b[0m_packet_generator\u001b[0m\u001b[1;33m.\u001b[0m\u001b[0msend\u001b[0m\u001b[1;33m(\u001b[0m\u001b[1;32mNone\u001b[0m\u001b[1;33m)\u001b[0m\u001b[1;33m\u001b[0m\u001b[1;33m\u001b[0m\u001b[0m\n\u001b[0;32m     60\u001b[0m         \u001b[1;32melif\u001b[0m \u001b[0mself\u001b[0m\u001b[1;33m.\u001b[0m\u001b[0m_current_packet\u001b[0m \u001b[1;33m>=\u001b[0m \u001b[0mlen\u001b[0m\u001b[1;33m(\u001b[0m\u001b[0mself\u001b[0m\u001b[1;33m.\u001b[0m\u001b[0m_packets\u001b[0m\u001b[1;33m)\u001b[0m\u001b[1;33m:\u001b[0m\u001b[1;33m\u001b[0m\u001b[1;33m\u001b[0m\u001b[0m\n\u001b[1;32m---> 61\u001b[1;33m             \u001b[0mpacket\u001b[0m \u001b[1;33m=\u001b[0m \u001b[0mself\u001b[0m\u001b[1;33m.\u001b[0m\u001b[0m_packet_generator\u001b[0m\u001b[1;33m.\u001b[0m\u001b[0msend\u001b[0m\u001b[1;33m(\u001b[0m\u001b[1;32mNone\u001b[0m\u001b[1;33m)\u001b[0m\u001b[1;33m\u001b[0m\u001b[1;33m\u001b[0m\u001b[0m\n\u001b[0m\u001b[0;32m     62\u001b[0m             \u001b[0mself\u001b[0m\u001b[1;33m.\u001b[0m\u001b[0m_packets\u001b[0m \u001b[1;33m+=\u001b[0m \u001b[1;33m[\u001b[0m\u001b[0mpacket\u001b[0m\u001b[1;33m]\u001b[0m\u001b[1;33m\u001b[0m\u001b[1;33m\u001b[0m\u001b[0m\n\u001b[0;32m     63\u001b[0m         \u001b[1;32mreturn\u001b[0m \u001b[0msuper\u001b[0m\u001b[1;33m(\u001b[0m\u001b[0mFileCapture\u001b[0m\u001b[1;33m,\u001b[0m \u001b[0mself\u001b[0m\u001b[1;33m)\u001b[0m\u001b[1;33m.\u001b[0m\u001b[0mnext_packet\u001b[0m\u001b[1;33m(\u001b[0m\u001b[1;33m)\u001b[0m\u001b[1;33m\u001b[0m\u001b[1;33m\u001b[0m\u001b[0m\n",
      "\u001b[1;32m~\\anaconda3\\lib\\site-packages\\pyshark\\capture\\capture.py\u001b[0m in \u001b[0;36m_packets_from_tshark_sync\u001b[1;34m(self, packet_count, existing_process)\u001b[0m\n\u001b[0;32m    230\u001b[0m         \"\"\"\n\u001b[0;32m    231\u001b[0m         \u001b[1;31m# NOTE: This has code duplication with the async version, think about how to solve this\u001b[0m\u001b[1;33m\u001b[0m\u001b[1;33m\u001b[0m\u001b[1;33m\u001b[0m\u001b[0m\n\u001b[1;32m--> 232\u001b[1;33m         \u001b[0mtshark_process\u001b[0m \u001b[1;33m=\u001b[0m \u001b[0mexisting_process\u001b[0m \u001b[1;32mor\u001b[0m \u001b[0mself\u001b[0m\u001b[1;33m.\u001b[0m\u001b[0meventloop\u001b[0m\u001b[1;33m.\u001b[0m\u001b[0mrun_until_complete\u001b[0m\u001b[1;33m(\u001b[0m\u001b[0mself\u001b[0m\u001b[1;33m.\u001b[0m\u001b[0m_get_tshark_process\u001b[0m\u001b[1;33m(\u001b[0m\u001b[1;33m)\u001b[0m\u001b[1;33m)\u001b[0m\u001b[1;33m\u001b[0m\u001b[1;33m\u001b[0m\u001b[0m\n\u001b[0m\u001b[0;32m    233\u001b[0m         \u001b[0mpsml_structure\u001b[0m\u001b[1;33m,\u001b[0m \u001b[0mdata\u001b[0m \u001b[1;33m=\u001b[0m \u001b[0mself\u001b[0m\u001b[1;33m.\u001b[0m\u001b[0meventloop\u001b[0m\u001b[1;33m.\u001b[0m\u001b[0mrun_until_complete\u001b[0m\u001b[1;33m(\u001b[0m\u001b[0mself\u001b[0m\u001b[1;33m.\u001b[0m\u001b[0m_get_psml_struct\u001b[0m\u001b[1;33m(\u001b[0m\u001b[0mtshark_process\u001b[0m\u001b[1;33m.\u001b[0m\u001b[0mstdout\u001b[0m\u001b[1;33m)\u001b[0m\u001b[1;33m)\u001b[0m\u001b[1;33m\u001b[0m\u001b[1;33m\u001b[0m\u001b[0m\n\u001b[0;32m    234\u001b[0m         \u001b[0mpackets_captured\u001b[0m \u001b[1;33m=\u001b[0m \u001b[1;36m0\u001b[0m\u001b[1;33m\u001b[0m\u001b[1;33m\u001b[0m\u001b[0m\n",
      "\u001b[1;32m~\\anaconda3\\lib\\asyncio\\base_events.py\u001b[0m in \u001b[0;36mrun_until_complete\u001b[1;34m(self, future)\u001b[0m\n\u001b[0;32m    590\u001b[0m         \"\"\"\n\u001b[0;32m    591\u001b[0m         \u001b[0mself\u001b[0m\u001b[1;33m.\u001b[0m\u001b[0m_check_closed\u001b[0m\u001b[1;33m(\u001b[0m\u001b[1;33m)\u001b[0m\u001b[1;33m\u001b[0m\u001b[1;33m\u001b[0m\u001b[0m\n\u001b[1;32m--> 592\u001b[1;33m         \u001b[0mself\u001b[0m\u001b[1;33m.\u001b[0m\u001b[0m_check_running\u001b[0m\u001b[1;33m(\u001b[0m\u001b[1;33m)\u001b[0m\u001b[1;33m\u001b[0m\u001b[1;33m\u001b[0m\u001b[0m\n\u001b[0m\u001b[0;32m    593\u001b[0m \u001b[1;33m\u001b[0m\u001b[0m\n\u001b[0;32m    594\u001b[0m         \u001b[0mnew_task\u001b[0m \u001b[1;33m=\u001b[0m \u001b[1;32mnot\u001b[0m \u001b[0mfutures\u001b[0m\u001b[1;33m.\u001b[0m\u001b[0misfuture\u001b[0m\u001b[1;33m(\u001b[0m\u001b[0mfuture\u001b[0m\u001b[1;33m)\u001b[0m\u001b[1;33m\u001b[0m\u001b[1;33m\u001b[0m\u001b[0m\n",
      "\u001b[1;32m~\\anaconda3\\lib\\asyncio\\base_events.py\u001b[0m in \u001b[0;36m_check_running\u001b[1;34m(self)\u001b[0m\n\u001b[0;32m    552\u001b[0m             \u001b[1;32mraise\u001b[0m \u001b[0mRuntimeError\u001b[0m\u001b[1;33m(\u001b[0m\u001b[1;34m'This event loop is already running'\u001b[0m\u001b[1;33m)\u001b[0m\u001b[1;33m\u001b[0m\u001b[1;33m\u001b[0m\u001b[0m\n\u001b[0;32m    553\u001b[0m         \u001b[1;32mif\u001b[0m \u001b[0mevents\u001b[0m\u001b[1;33m.\u001b[0m\u001b[0m_get_running_loop\u001b[0m\u001b[1;33m(\u001b[0m\u001b[1;33m)\u001b[0m \u001b[1;32mis\u001b[0m \u001b[1;32mnot\u001b[0m \u001b[1;32mNone\u001b[0m\u001b[1;33m:\u001b[0m\u001b[1;33m\u001b[0m\u001b[1;33m\u001b[0m\u001b[0m\n\u001b[1;32m--> 554\u001b[1;33m             raise RuntimeError(\n\u001b[0m\u001b[0;32m    555\u001b[0m                 'Cannot run the event loop while another loop is running')\n\u001b[0;32m    556\u001b[0m \u001b[1;33m\u001b[0m\u001b[0m\n",
      "\u001b[1;31mRuntimeError\u001b[0m: Cannot run the event loop while another loop is running"
     ]
    }
   ],
   "source": [
    "cap = pyshark.FileCapture('16-09-27.pcap')\n",
    "print(cap)\n",
    "print(dir(cap[0]))\n",
    "print(cap[0])q"
   ]
  },
  {
   "cell_type": "code",
   "execution_count": null,
   "metadata": {},
   "outputs": [],
   "source": []
  }
 ],
 "metadata": {
  "kernelspec": {
   "display_name": "Python 3",
   "language": "python",
   "name": "python3"
  },
  "language_info": {
   "codemirror_mode": {
    "name": "ipython",
    "version": 3
   },
   "file_extension": ".py",
   "mimetype": "text/x-python",
   "name": "python",
   "nbconvert_exporter": "python",
   "pygments_lexer": "ipython3",
   "version": "3.8.5"
  }
 },
 "nbformat": 4,
 "nbformat_minor": 4
}
